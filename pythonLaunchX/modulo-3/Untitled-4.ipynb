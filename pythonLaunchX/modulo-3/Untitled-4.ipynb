{
 "cells": [
  {
   "cell_type": "code",
   "execution_count": null,
   "metadata": {},
   "outputs": [],
   "source": [
    "asteroide = 49\n",
    "if asteroide > 25: print(\"¡ALERTA! Un asteroide se acerca, y viaja a una velocidad de\", asteroide, \"km/s.\")\n",
    "else: print('¡Todo bien!')"
   ]
  }
 ],
 "metadata": {
  "interpreter": {
   "hash": "9a453ab1483de504b7e6c7f435573a1f4be0df2a09cc15a5e7ce033ccb81e3e4"
  },
  "kernelspec": {
   "display_name": "Python 3.10.2 32-bit",
   "language": "python",
   "name": "python3"
  },
  "language_info": {
   "codemirror_mode": {
    "name": "ipython",
    "version": 3
   },
   "file_extension": ".py",
   "mimetype": "text/x-python",
   "name": "python",
   "nbconvert_exporter": "python",
   "pygments_lexer": "ipython3",
   "version": "3.10.2"
  },
  "orig_nbformat": 4
 },
 "nbformat": 4,
 "nbformat_minor": 2
}
